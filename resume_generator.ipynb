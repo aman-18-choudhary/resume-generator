{
  "nbformat": 4,
  "nbformat_minor": 0,
  "metadata": {
    "colab": {
      "provenance": [],
      "authorship_tag": "ABX9TyNjRoLvPmNC1aU8bPvHSddk",
      "include_colab_link": true
    },
    "kernelspec": {
      "name": "python3",
      "display_name": "Python 3"
    },
    "language_info": {
      "name": "python"
    }
  },
  "cells": [
    {
      "cell_type": "markdown",
      "metadata": {
        "id": "view-in-github",
        "colab_type": "text"
      },
      "source": [
        "<a href=\"https://colab.research.google.com/github/aman-18-choudhary/resume-generator/blob/main/resume_generator.ipynb\" target=\"_parent\"><img src=\"https://colab.research.google.com/assets/colab-badge.svg\" alt=\"Open In Colab\"/></a>"
      ]
    },
    {
      "cell_type": "code",
      "execution_count": 1,
      "metadata": {
        "colab": {
          "base_uri": "https://localhost:8080/"
        },
        "id": "66vbhRdgAGRS",
        "outputId": "1bf4f023-ba50-4a27-af92-55723d6dfbdd"
      },
      "outputs": [
        {
          "output_type": "stream",
          "name": "stdout",
          "text": [
            "\u001b[?25l   \u001b[90m━━━━━━━━━━━━━━━━━━━━━━━━━━━━━━━━━━━━━━━━\u001b[0m \u001b[32m0.0/2.0 MB\u001b[0m \u001b[31m?\u001b[0m eta \u001b[36m-:--:--\u001b[0m\r\u001b[2K   \u001b[91m━━━━━━━━━━━━━━━━━━━━━━━━━━━━━━━━━━━━━━━\u001b[0m\u001b[91m╸\u001b[0m \u001b[32m1.9/2.0 MB\u001b[0m \u001b[31m57.1 MB/s\u001b[0m eta \u001b[36m0:00:01\u001b[0m\r\u001b[2K   \u001b[90m━━━━━━━━━━━━━━━━━━━━━━━━━━━━━━━━━━━━━━━━\u001b[0m \u001b[32m2.0/2.0 MB\u001b[0m \u001b[31m27.8 MB/s\u001b[0m eta \u001b[36m0:00:00\u001b[0m\n",
            "\u001b[?25h"
          ]
        }
      ],
      "source": [
        "!pip install gradio reportlab transformers pillow --quiet\n"
      ]
    },
    {
      "cell_type": "code",
      "source": [
        "from reportlab.lib.pagesizes import A4\n",
        "from reportlab.lib import colors\n",
        "from reportlab.pdfgen import canvas\n",
        "from reportlab.lib.styles import getSampleStyleSheet\n",
        "from reportlab.platypus import Paragraph, SimpleDocTemplate, Spacer, Image\n",
        "from reportlab.lib.units import inch\n",
        "from PIL import Image as PILImage\n",
        "import gradio as gr\n",
        "import os\n",
        "\n",
        "# Output path\n",
        "pdf_file = \"/content/resume_cover_letter.pdf\"\n",
        "\n",
        "# Resize photo for PDF\n",
        "def process_photo(image_path):\n",
        "    resized_path = \"/content/photo_resized.jpg\"\n",
        "    with PILImage.open(image_path) as img:\n",
        "        img = img.convert(\"RGB\")\n",
        "        img.thumbnail((120, 120))\n",
        "        img.save(resized_path, format=\"JPEG\")\n",
        "    return resized_path\n",
        "\n",
        "def generate_resume_pdf(name, email, phone, location, background, skills, job_title, job_desc, photo):\n",
        "    skills_list = [s.strip() for s in skills.split(\",\") if s.strip()]\n",
        "\n",
        "    summary = f\"\"\"\n",
        "<b>{name}</b> is a final-year B.Tech Computer Science student with internships and projects in front-end development.\n",
        "He has worked with modern tech including:\n",
        "- <b>{', '.join(skills_list[:5])}</b>\n",
        "- Experience in responsive design using frameworks like <b>Bootstrap</b> and <b>Tailwind CSS</b>\n",
        "- Built academic projects such as a portfolio website and resume generator.\n",
        "\n",
        "{name} is passionate about building clean, accessible, and modern UIs. Proficient in version control, debugging, and agile workflows.\n",
        "\"\"\"\n",
        "\n",
        "    letter = f\"\"\"\n",
        "Dear Hiring Manager,<br/><br/>\n",
        "I am excited to apply for the position of <b>{job_title}</b> at your organization. My academic and project experience align well with the requirements.<br/><br/>\n",
        "I have worked on:\n",
        "<ul>\n",
        "<li>Front-end development using HTML, CSS, JavaScript, React</li>\n",
        "<li>REST APIs and UI/UX principles</li>\n",
        "<li>SEO optimization and cross-browser testing</li>\n",
        "</ul>\n",
        "I thrive in agile environments and am eager to contribute my skills to your team.<br/><br/>\n",
        "Thank you for considering my application.<br/><br/>\n",
        "Sincerely,<br/>\n",
        "{name}<br/>\n",
        "{email} | {phone}<br/>\n",
        "{location}\n",
        "\"\"\"\n",
        "\n",
        "    doc = SimpleDocTemplate(pdf_file, pagesize=A4)\n",
        "    styles = getSampleStyleSheet()\n",
        "    story = []\n",
        "\n",
        "    # Add image\n",
        "    if photo is not None:\n",
        "        img_path = process_photo(photo)\n",
        "        story.append(Image(img_path, width=1.2*inch, height=1.2*inch))\n",
        "        story.append(Spacer(1, 0.1 * inch))\n",
        "\n",
        "    story.append(Paragraph(\"<font size=16 color='blue'><b>Resume Summary and Cover Letter</b></font>\", styles[\"Title\"]))\n",
        "    story.append(Spacer(1, 0.3 * inch))\n",
        "    story.append(Paragraph(\"<font color='green'><b>Resume Summary</b></font>\", styles[\"Heading2\"]))\n",
        "    story.append(Paragraph(summary, styles[\"BodyText\"]))\n",
        "    story.append(Spacer(1, 0.2 * inch))\n",
        "    story.append(Paragraph(\"<font color='green'><b>Cover Letter</b></font>\", styles[\"Heading2\"]))\n",
        "    story.append(Paragraph(letter, styles[\"BodyText\"]))\n",
        "\n",
        "    doc.build(story)\n",
        "\n",
        "    return pdf_file"
      ],
      "metadata": {
        "id": "V5Uy25CiAbjI"
      },
      "execution_count": 2,
      "outputs": []
    },
    {
      "cell_type": "code",
      "source": [
        "demo = gr.Interface(\n",
        "    fn=generate_resume_pdf,\n",
        "    inputs=[\n",
        "        gr.Textbox(label=\"Full Name\"),\n",
        "        gr.Textbox(label=\"Email\"),\n",
        "        gr.Textbox(label=\"Phone\"),\n",
        "        gr.Textbox(label=\"Location\"),\n",
        "        gr.Textbox(lines=4, label=\"Education & Experience\"),\n",
        "        gr.Textbox(label=\"List Your Key Skills (comma-separated)\"),\n",
        "        gr.Textbox(label=\"Job Title you're applying for\"),\n",
        "        gr.Textbox(lines=4, label=\"Paste the Job Description\"),\n",
        "        gr.Image(type=\"filepath\", label=\"Upload Photo\")\n",
        "    ],\n",
        "    outputs=gr.File(label=\"Download Colorful PDF\"),\n",
        "    title=\"📄 Stylish Resume & Cover Letter Generator\",\n",
        "    description=\"Generate a colorful, styled professional resume summary and cover letter PDF — with photo!\"\n",
        ")\n",
        "\n",
        "demo.launch(share=True)"
      ],
      "metadata": {
        "colab": {
          "base_uri": "https://localhost:8080/",
          "height": 609
        },
        "id": "_k_h9MXtAoLb",
        "outputId": "ae023446-6970-4c15-d5b8-1c46e25ef3bd"
      },
      "execution_count": 3,
      "outputs": [
        {
          "output_type": "stream",
          "name": "stdout",
          "text": [
            "Colab notebook detected. To show errors in colab notebook, set debug=True in launch()\n",
            "* Running on public URL: https://4a860fbe14cbd8e614.gradio.live\n",
            "\n",
            "This share link expires in 1 week. For free permanent hosting and GPU upgrades, run `gradio deploy` from the terminal in the working directory to deploy to Hugging Face Spaces (https://huggingface.co/spaces)\n"
          ]
        },
        {
          "output_type": "display_data",
          "data": {
            "text/plain": [
              "<IPython.core.display.HTML object>"
            ],
            "text/html": [
              "<div><iframe src=\"https://4a860fbe14cbd8e614.gradio.live\" width=\"100%\" height=\"500\" allow=\"autoplay; camera; microphone; clipboard-read; clipboard-write;\" frameborder=\"0\" allowfullscreen></iframe></div>"
            ]
          },
          "metadata": {}
        },
        {
          "output_type": "execute_result",
          "data": {
            "text/plain": []
          },
          "metadata": {},
          "execution_count": 3
        }
      ]
    }
  ]
}